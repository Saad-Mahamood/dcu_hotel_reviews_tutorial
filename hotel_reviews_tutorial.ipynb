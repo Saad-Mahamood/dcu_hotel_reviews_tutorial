{
 "cells": [
  {
   "metadata": {},
   "cell_type": "markdown",
   "source": [
    "# Hotel Reviews Tutorial\n",
    "\n",
    "This tutorial uses the [Hotel-Review Datasets](https://www.cs.cmu.edu/~jiweil/html/hotel-review.html) to teach the following aspects:\n",
    "\n",
    "* Data preparation and high-level analysis\n",
    "* Langauge classification\n",
    "* Sentiment analysis\n",
    "* Content selection\n",
    "* Review summarization using an open source language model"
   ],
   "id": "6f163da941cfa6a1"
  },
  {
   "metadata": {},
   "cell_type": "code",
   "source": [
    "import pandas as pd\n",
    "import os\n",
    "import tqdm\n",
    "\n",
    "from zipfile import ZipFile\n",
    "from pandas import DataFrame\n",
    "from tqdm.notebook import tqdm\n",
    "from lingua import Language, LanguageDetectorBuilder\n",
    "from ollama import chat\n",
    "from ollama import ChatResponse"
   ],
   "id": "ef5ccb1063a45d0e",
   "outputs": [],
   "execution_count": null
  },
  {
   "metadata": {},
   "cell_type": "code",
   "source": [
    "# Pandas options:\n",
    "pd.options.mode.copy_on_write = True"
   ],
   "id": "7d09993a3cc8cd51",
   "outputs": [],
   "execution_count": null
  },
  {
   "metadata": {},
   "cell_type": "markdown",
   "source": [
    "## Data Preparation and Ingestion\n",
    "\n",
    "Prepare the raw data and read it into a pandas dataframe.\n"
   ],
   "id": "1e0d1ae7f1925088"
  },
  {
   "metadata": {},
   "cell_type": "code",
   "source": [
    "def unzip_datafiles(zip_file_path: str):\n",
    "    \"\"\"\n",
    "    Unzip the raw data files and set the .txt extension to .json\n",
    "    :param zip_file_path: The file path to the data zip file\n",
    "    \"\"\"\n",
    "    with ZipFile(zip_file_path) as zip_file:\n",
    "        zip_file.extractall(path=\"./resources/data/\")\n",
    "\n",
    "    extracted_txt_file = None\n",
    "\n",
    "    if os.name == \"nt\":\n",
    "        extracted_txt_file = zip_file_path.split(\"\\\\\")[-1]\n",
    "    else:\n",
    "        extracted_txt_file = zip_file_path.split(\"/\")[-1]\n",
    "\n",
    "    extracted_txt_file = extracted_txt_file.replace(\".zip\", \"\")\n",
    "\n",
    "    if os.path.exists(f\"./resources/data/{extracted_txt_file}\"):\n",
    "        # Rename file extension:\n",
    "        os.rename(f\"./resources/data/{extracted_txt_file}\", f\"./resources/data/{extracted_txt_file.replace('.txt', '.json')}\")\n"
   ],
   "id": "c5b84581e982468c",
   "outputs": [],
   "execution_count": null
  },
  {
   "metadata": {},
   "cell_type": "code",
   "source": [
    "# Process zip files:\n",
    "unzip_datafiles(\"./resources/data/offering.txt.zip\")\n",
    "unzip_datafiles(\"./resources/data/review.txt.zip\")"
   ],
   "id": "5d587c38f2bca6d",
   "outputs": [],
   "execution_count": null
  },
  {
   "metadata": {},
   "cell_type": "code",
   "source": [
    "# Read the Accommodation dataset:\n",
    "accommodation_offerings_df = pd.read_json(path_or_buf=\"./resources/data/offering.json\", lines=True)\n",
    "accommodation_offerings_df = accommodation_offerings_df[[\"id\", \"name\", \"type\", \"hotel_class\", \"address\"]]\n",
    "accommodation_offerings_df.head()"
   ],
   "id": "bb2e29ab2af4a871",
   "outputs": [],
   "execution_count": null
  },
  {
   "metadata": {},
   "cell_type": "code",
   "source": [
    "# Are we only dealing with Hotels?\n",
    "hotel_count = len(accommodation_offerings_df.loc[accommodation_offerings_df[\"type\"] == \"hotel\"])\n",
    "print(f\"Only accommodations are hotels? {hotel_count == len(accommodation_offerings_df)}\")"
   ],
   "id": "5f4a4d8c33855f62",
   "outputs": [],
   "execution_count": null
  },
  {
   "metadata": {},
   "cell_type": "code",
   "source": [
    "# Replace any hotels without a class rating as zero:\n",
    "accommodation_offerings_df.fillna({\"hotel_class\": 0}, inplace=True)"
   ],
   "id": "8f66cc7deedd8853",
   "outputs": [],
   "execution_count": null
  },
  {
   "metadata": {},
   "cell_type": "code",
   "source": [
    "# Plot distribution of Hotel class types:\n",
    "hotel_class_types = accommodation_offerings_df.groupby([\"hotel_class\"])[\"hotel_class\"].count()\n",
    "# TODO: Generate a bar graph of hotel class types:\n",
    "hotel_class_types.plot()"
   ],
   "id": "4f224a926aa81c6c",
   "outputs": [],
   "execution_count": null
  },
  {
   "metadata": {},
   "cell_type": "code",
   "source": [
    "# Read the Review dataset:\n",
    "accommodation_reviews_df = pd.read_json(\"./resources/data/review.json\", lines=True)\n",
    "accommodation_reviews_df.head()"
   ],
   "id": "1a0d18b37853f23c",
   "outputs": [],
   "execution_count": null
  },
  {
   "metadata": {},
   "cell_type": "code",
   "source": [
    "# How many reviews do we have?\n",
    "# TODO: calculate the numbers for each of these print statements:\n",
    "review_count = 0\n",
    "print(f\"Number of reviews: {review_count}\")\n",
    "# How many accommodations have reviews?\n",
    "review_accommodation_count = 0\n",
    "print(f\"Number of accommodations with reviews: {review_accommodation_count}\")\n",
    "# Min, Max, and Average reviews for a given accommodation?\n",
    "accommodation_review_counts = None\n",
    "print(f\"Minimum number of reviews for an accommodation: {}\")\n",
    "print(f\"Maximum number of reviews for an accommodation: {}\")\n",
    "print(f\"Average number of review for an accommodation: {} (std. {})\")\n",
    "# Are the accommodations without any reviews?\n",
    "print(f\"Are there accommodations without any reviews: {}\")"
   ],
   "id": "25ad3f80674b057d",
   "outputs": [],
   "execution_count": null
  },
  {
   "metadata": {},
   "cell_type": "code",
   "source": [
    "# Extract the ratings JSON column and re-order column order:\n",
    "accommodation_reviews_normalised_df = accommodation_reviews_df.copy(deep=True)\n",
    "ratings_df = pd.json_normalize(data=accommodation_reviews_df['ratings'])\n",
    "accommodation_reviews_normalised_df.drop(columns=['ratings'], inplace=True)\n",
    "accommodation_reviews_normalised_df = pd.concat([accommodation_reviews_normalised_df, ratings_df], axis=1)\n",
    "accommodation_reviews_normalised_df = accommodation_reviews_normalised_df[[\"id\", \"offering_id\", \"title\", \"text\",\n",
    "                                                                           \"author\", \"num_helpful_votes\",\n",
    "                                                                           \"via_mobile\", \"service\", \"cleanliness\",\n",
    "                                                                           \"value\", \"location\", \"sleep_quality\",\n",
    "                                                                           \"overall\", \"date_stayed\", \"date\"]]\n",
    "accommodation_reviews_normalised_df.head()\n"
   ],
   "id": "2b44e036d046e7ef",
   "outputs": [],
   "execution_count": null
  },
  {
   "metadata": {},
   "cell_type": "markdown",
   "source": [
    "## Compute average rating scores per Accommodation\n",
    "\n",
    "For each accommodation calculate the average rating scores for each of the rating factors: `service`, `cleanliness`, `value`, `location`, `sleep_quality`, and `overall`"
   ],
   "id": "776d45709c1ac4a8"
  },
  {
   "metadata": {},
   "cell_type": "code",
   "source": [
    "def compute_average_scores(accommodation_id: int, column_name: str, review_dataset_df: DataFrame) -> float:\n",
    "    \"\"\"\n",
    "    Utility function to compute average scores for different review criteria\n",
    "    :param accommodation_id: The id of the accommodation offering\n",
    "    :param column_name: The review criteria in question.\n",
    "    :param review_dataset_df: The set of accommodation reviews DataFrame\n",
    "    :return: Mean average score for the given review criteria\n",
    "    \"\"\"\n",
    "    return review_dataset_df.loc[review_dataset_df[\"offering_id\"] == accommodation_id][column_name].mean()\n"
   ],
   "id": "4aa84d55d3ac4a77",
   "outputs": [],
   "execution_count": null
  },
  {
   "metadata": {},
   "cell_type": "code",
   "source": [
    "tqdm.pandas()\n",
    "accommodation_offerings_df[\"avg_service\"] = accommodation_offerings_df.progress_apply(lambda row: compute_average_scores(row[\"id\"],\n",
    "                                                                                                                         \"service\",\n",
    "                                                                                                                         accommodation_reviews_normalised_df), axis=1)\n",
    "accommodation_offerings_df[\"avg_cleanliness\"] = accommodation_offerings_df.progress_apply(lambda row: compute_average_scores(row[\"id\"],\n",
    "                                                                                                                         \"cleanliness\",\n",
    "                                                                                                                         accommodation_reviews_normalised_df), axis=1)\n",
    "accommodation_offerings_df[\"avg_value\"] = accommodation_offerings_df.progress_apply(lambda row: compute_average_scores(row[\"id\"],\n",
    "                                                                                                                         \"value\",\n",
    "                                                                                                                         accommodation_reviews_normalised_df), axis=1)\n",
    "accommodation_offerings_df[\"avg_location\"] = accommodation_offerings_df.progress_apply(lambda row: compute_average_scores(row[\"id\"],\n",
    "                                                                                                                       \"location\",\n",
    "                                                                                                                       accommodation_reviews_normalised_df), axis=1)\n",
    "accommodation_offerings_df[\"avg_sleep_quality\"] = accommodation_offerings_df.progress_apply(lambda row: compute_average_scores(row[\"id\"],\n",
    "                                                                                                                          \"sleep_quality\",\n",
    "                                                                                                                          accommodation_reviews_normalised_df), axis=1)\n",
    "accommodation_offerings_df[\"avg_overall\"] = accommodation_offerings_df.progress_apply(lambda row: compute_average_scores(row[\"id\"],\n",
    "                                                                                                                           \"overall\",\n",
    "                                                                                                                           accommodation_reviews_normalised_df), axis=1)"
   ],
   "id": "bf894fa2eeb82d0e",
   "outputs": [],
   "execution_count": null
  },
  {
   "metadata": {},
   "cell_type": "code",
   "source": "accommodation_offerings_df.head()",
   "id": "54bc40f515288cc8",
   "outputs": [],
   "execution_count": null
  },
  {
   "metadata": {},
   "cell_type": "markdown",
   "source": [
    "## Visualise Accommodation Ratings\n",
    "\n",
    "Create multiple scatter graphs between `hotel_class` and the different average ratings given by reviewers."
   ],
   "id": "271ae76dcf97eb4f"
  },
  {
   "metadata": {},
   "cell_type": "code",
   "source": [
    "# TOD0: create multiple scatter graphs that plots `hotel_clas` against each of the average rating columns:\n",
    "accommodation_offerings_df.plot.scatter(subplots=True, figsize=(4, 2), x=\"hotel_class\", y=\"\")"
   ],
   "id": "f6a89ecc60f2431b",
   "outputs": [],
   "execution_count": null
  },
  {
   "metadata": {},
   "cell_type": "markdown",
   "source": "With an exception for `avg_value` there does seem there is a relationship between the hotel star class and ratings...",
   "id": "3e4df6e131659a58"
  },
  {
   "metadata": {},
   "cell_type": "markdown",
   "source": [
    "## Language Detection\n",
    "\n",
    "Some of the reviews are in French. Can we detect them and remove them from our dataset to simplify the review summarization? We will use [lingua-py](https://github.com/pemistahl/lingua-py), but other models are available for the same task."
   ],
   "id": "8bb503db6c3c8811"
  },
  {
   "metadata": {},
   "cell_type": "code",
   "source": [
    "# List of languages to detect:\n",
    "languages = [Language.ENGLISH, Language.FRENCH]\n",
    "detector = LanguageDetectorBuilder.from_languages(*languages).build()"
   ],
   "id": "774b218843e37181",
   "outputs": [],
   "execution_count": null
  },
  {
   "metadata": {},
   "cell_type": "code",
   "source": [
    "def detect_review_langauge(review_title: str, review_text: str, langauge_detector) -> dict:\n",
    "    \"\"\"\n",
    "    For a given String and langauge_detector calculate the detected languages and the confidence scores.\n",
    "    :param review_title: The title of the review to calculate language detection on.\n",
    "    :param review_text: The review text to calculate language detection on.\n",
    "    :param langauge_detector:\n",
    "    :return: dict with the detected languages and confidence scores.\n",
    "    \"\"\"\n",
    "    detected_scores = {\n",
    "        \"lingua_english\": 0.0,\n",
    "        \"lingua_french\": 0.0\n",
    "    }\n",
    "\n",
    "    # Combine the title and text:\n",
    "    review_complete = review_title + \"\\n\" + review_text\n",
    "\n",
    "    confidence_values = langauge_detector.compute_language_confidence_values(review_complete)\n",
    "    for a_confidence_value in confidence_values:\n",
    "        if a_confidence_value:\n",
    "            if Language.ENGLISH == a_confidence_value.language:\n",
    "                detected_scores[\"lingua_english\"] = a_confidence_value.value\n",
    "            elif Language.FRENCH == a_confidence_value.language:\n",
    "                detected_scores[\"lingua_french\"] = a_confidence_value.value\n",
    "    return detected_scores"
   ],
   "id": "e52a81dbf68647ca",
   "outputs": [],
   "execution_count": null
  },
  {
   "metadata": {},
   "cell_type": "code",
   "source": [
    "# TODO: Process the reviews with the language detector:\n",
    "accommodation_reviews_normalised_df['lingua_scores'] = accommodation_reviews_normalised_df.progress_apply()"
   ],
   "id": "68112a0ddc27f10a",
   "outputs": [],
   "execution_count": null
  },
  {
   "metadata": {},
   "cell_type": "code",
   "source": [
    "lingua_scores_df = pd.json_normalize(data=accommodation_reviews_normalised_df['lingua_scores'])\n",
    "accommodation_reviews_languages_df = pd.concat([accommodation_reviews_normalised_df, lingua_scores_df], axis=1)\n",
    "accommodation_reviews_languages_df.drop(columns=\"lingua_scores\", inplace=True)\n",
    "accommodation_reviews_languages_df.head()"
   ],
   "id": "dacb5a156c1740c2",
   "outputs": [],
   "execution_count": null
  },
  {
   "metadata": {},
   "cell_type": "code",
   "source": [
    "# TODO: Create sub-sets of English and French reviews with a confidence score >= 0.9:\n",
    "accommodation_reviews_english_df = accommodation_reviews_languages_df.query(\"\")\n",
    "accommodation_reviews_french_df = accommodation_reviews_languages_df.query(\"\")"
   ],
   "id": "b57aab9dfae6804e",
   "outputs": [],
   "execution_count": null
  },
  {
   "metadata": {},
   "cell_type": "code",
   "source": "accommodation_reviews_french_df.head()",
   "id": "62eebeab658d90af",
   "outputs": [],
   "execution_count": null
  },
  {
   "metadata": {},
   "cell_type": "code",
   "source": "accommodation_reviews_english_df.head()",
   "id": "c10496edabbc86a6",
   "outputs": [],
   "execution_count": null
  },
  {
   "metadata": {},
   "cell_type": "code",
   "source": [
    "# TODO: What reviews have neither a high English or French confidence score?\n",
    "accommodation_reviews_neither_df = accommodation_reviews_languages_df.query(\"\")"
   ],
   "id": "8adef322738d4b22",
   "outputs": [],
   "execution_count": null
  },
  {
   "metadata": {},
   "cell_type": "code",
   "source": "accommodation_reviews_neither_df.head()",
   "id": "e0461c3b03e2234b",
   "outputs": [],
   "execution_count": null
  },
  {
   "metadata": {},
   "cell_type": "code",
   "source": [
    "# TODO: Calculate dataset sizes:\n",
    "print(f\"English review dataset: {}\")\n",
    "print(f\"French review dataset: {}\")\n",
    "print(f\"Neither English or French review dataset: {}\")"
   ],
   "id": "6792fbc0f15f8e91",
   "outputs": [],
   "execution_count": null
  },
  {
   "metadata": {},
   "cell_type": "markdown",
   "source": [
    " ## Future Work:\n",
    "\n",
    "* Explore different models and how they compare to `py-lingua` in terms of language identification such as the [xlm-roberta-base-language-detection](https://huggingface.co/papluca/xlm-roberta-base-language-detection) model on HuggingFace.\n",
    "* Do users who write reviews in different languages have different ratings for the same given accommodation?"
   ],
   "id": "9c2b3582d0fb072a"
  },
  {
   "metadata": {},
   "cell_type": "markdown",
   "source": [
    "## English Review Length & Sentiment Analysis\n",
    "\n",
    "Let's focus for now on the English reviews now and understand the types of reviews that we have. In particular, how long are the reviews and what is the user sentiment in the reviews written. Does the sentiment correlate with the review scores given?"
   ],
   "id": "3800d56eae28fc2c"
  },
  {
   "metadata": {},
   "cell_type": "code",
   "source": [
    "# Setup NLTK:\n",
    "import nltk\n",
    "from nltk.tokenize import word_tokenize\n",
    "from nltk.sentiment.vader import SentimentIntensityAnalyzer\n",
    "\n",
    "nltk.download('punkt_tab')\n",
    "nltk.download(\"popular\")"
   ],
   "id": "6ae3efb0b55066be",
   "outputs": [],
   "execution_count": null
  },
  {
   "metadata": {},
   "cell_type": "code",
   "source": [
    "# TODO: Compute review text token lengths:\n",
    "accommodation_reviews_english_df[\"review_length\"] = accommodation_reviews_english_df.progress_apply()\n",
    "accommodation_reviews_english_df.head()"
   ],
   "id": "25c41993f211a30f",
   "outputs": [],
   "execution_count": null
  },
  {
   "metadata": {},
   "cell_type": "code",
   "source": [
    "# TODO: Use the pre-trained VADER (Valence Aware Dictionary and sEntiment Reasoner) to classify the reviews:\n",
    "sentiment_analyzer = SentimentIntensityAnalyzer()\n",
    "accommodation_reviews_english_df[\"sentiment_scores\"] = accommodation_reviews_english_df.progress_apply()\n",
    "accommodation_reviews_english_df.head()"
   ],
   "id": "e9fadd54fb6b80d2",
   "outputs": [],
   "execution_count": null
  },
  {
   "metadata": {},
   "cell_type": "code",
   "source": [
    "sentiment_scores_df = pd.json_normalize(data=accommodation_reviews_english_df['sentiment_scores'])\n",
    "accommodation_reviews_english_df = pd.concat([accommodation_reviews_english_df, sentiment_scores_df], axis=1)\n",
    "accommodation_reviews_english_df.drop(columns=\"sentiment_scores\", inplace=True)\n",
    "accommodation_reviews_english_df.head()"
   ],
   "id": "98a5e2a0b671b10d",
   "outputs": [],
   "execution_count": null
  },
  {
   "metadata": {},
   "cell_type": "code",
   "source": [
    "# Save intermediate data to CSV:\n",
    "accommodation_reviews_english_df.to_csv(\"./resources/data/intermediate/accommodation_reviews_english.csv\", index=False)"
   ],
   "id": "44d5f9fbe92fd47",
   "outputs": [],
   "execution_count": null
  },
  {
   "metadata": {},
   "cell_type": "code",
   "source": [
    "# Load data [Optional]:\n",
    "accommodation_reviews_english_df = pd.read_csv(\"./resources/data/intermediate/accommodation_reviews_english.csv\")"
   ],
   "id": "7fe23d8a350f1bb5",
   "outputs": [],
   "execution_count": null
  },
  {
   "metadata": {},
   "cell_type": "code",
   "source": "# TODO: What are the top-10 most positive reviews?",
   "id": "c8531553f7e70331",
   "outputs": [],
   "execution_count": null
  },
  {
   "metadata": {},
   "cell_type": "code",
   "source": [
    "# TODO: Is there any relationship between review length and positive sentiment:\n",
    "accommodation_reviews_english_df.plot.scatter()"
   ],
   "id": "f45f94d991d792b1",
   "outputs": [],
   "execution_count": null
  },
  {
   "metadata": {},
   "cell_type": "code",
   "source": [
    "# TODO: Calculate for `review_length`, `neg`, `neu`, `pos`, and `compund` average values on a per-accommodation level:\n",
    "accommodation_offerings_df[\"avg_review_length\"] = accommodation_offerings_df.progress_apply()\n",
    "accommodation_offerings_df[\"avg_neg\"] = accommodation_offerings_df.progress_apply()\n",
    "accommodation_offerings_df[\"avg_neu\"] = accommodation_offerings_df.progress_apply()\n",
    "accommodation_offerings_df[\"avg_pos\"] = accommodation_offerings_df.progress_apply()\n",
    "accommodation_offerings_df[\"avg_compound\"] = accommodation_offerings_df.progress_apply()\n",
    "accommodation_offerings_df.head()"
   ],
   "id": "a683aeb958e0f16f",
   "outputs": [],
   "execution_count": null
  },
  {
   "metadata": {},
   "cell_type": "code",
   "source": [
    "# TODO: Generate scatter plots for each average aspect calculated above against `hotel_class`\n",
    "accommodation_offerings_df.plot.scatter(subplots=True, figsize=(4, 2), x=\"hotel_class\", y=\"\")"
   ],
   "id": "d44695a5aea58415",
   "outputs": [],
   "execution_count": null
  },
  {
   "metadata": {},
   "cell_type": "markdown",
   "source": [
    "## Review Summarization\n",
    "\n",
    "From the above we can select the most positive five reviews for each accommodation and prompt a model to summarise the given reviews with a focus on the most relevant points. Consider experimenting with the prompt and what reviews should be given to model for summarization. In addition, the default prompt is a zero shot prompt. Would examples in the prompt help? Try using an LLM to generate the prompt for you.\n",
    "\n",
    "Before running this section ensure that ollama is up by running: `ollama serve`\n",
    "\n",
    "For this section we will use [Llama 3.1-8b](https://ollama.com/library/llama3.1) as our model of choice. Feel free to experiment with other models."
   ],
   "id": "9ea3a95ae484addc"
  },
  {
   "metadata": {},
   "cell_type": "code",
   "source": [
    "def generate_ollama_response(content: str, language_model=\"llama3.1\") -> str:\n",
    "    response: ChatResponse = chat(model=language_model, messages=[\n",
    "        {\n",
    "            'role': 'user',\n",
    "            'content': content,\n",
    "        },\n",
    "    ])\n",
    "    return response['message']['content']"
   ],
   "id": "332f4e4c0eca6d25",
   "outputs": [],
   "execution_count": null
  },
  {
   "metadata": {},
   "cell_type": "code",
   "source": "print(generate_ollama_response(\"Hello!\"))",
   "id": "342197b1b1ef8bca",
   "outputs": [],
   "execution_count": null
  },
  {
   "metadata": {},
   "cell_type": "code",
   "source": [
    "# Load the default prompt -- This prompt was generated by Llama 3.1:\n",
    "default_prompt_template = open(\"./resources/data/prompt/default_prompt.txt\").read()"
   ],
   "id": "6808bef73b321723",
   "outputs": [],
   "execution_count": null
  },
  {
   "metadata": {},
   "cell_type": "code",
   "source": [
    "def generate_positive_review_summary(prompt_template: str, offering_id: int, reviews_dataset_df: DataFrame) -> str:\n",
    "    # Get all reviews for the given accommodation ID:\n",
    "    accommodation_reviews_df = reviews_dataset_df.loc[reviews_dataset_df[\"offering_id\"] == offering_id]\n",
    "    accommodation_reviews_df = accommodation_reviews_df.sort_values(by=[\"pos\"], ascending=False).head(5)\n",
    "    accommodation_reviews_list = accommodation_reviews_df[\"text\"].tolist()\n",
    "    prompt_rendered = prompt_template\n",
    "    for i in range(0, len(accommodation_reviews_list)):\n",
    "        prompt_rendered = prompt_rendered.replace(\"{{ review_\" + str(i) + \" }}\", accommodation_reviews_list[i])\n",
    "    return generate_ollama_response(prompt_rendered)"
   ],
   "id": "3bee3c4095381cdb",
   "outputs": [],
   "execution_count": null
  },
  {
   "metadata": {
    "jupyter": {
     "is_executing": true
    }
   },
   "cell_type": "code",
   "source": [
    "# Select a random hotel and generate some review summaries -- Speed will depend on compute power\n",
    "# e.g. GPU, CPU, and RAM for inferencing (reference: 2017 Macbook Pro - CPU: 2.8Ghz Quad-core i7 (Kabylake), 16GB RAM: ~5 minutes)\n",
    "# Supported GPUs can be found here: https://ollama.readthedocs.io/en/gpu/\n",
    "random_accommodations_df = accommodation_offerings_df.sample(n=1)\n",
    "random_accommodations_df[\"review_summaries\"] = random_accommodations_df.progress_apply(lambda row: generate_positive_review_summary(\n",
    "    prompt_template=default_prompt_template,\n",
    "    offering_id=row[\"id\"],\n",
    "    reviews_dataset_df=accommodation_reviews_english_df\n",
    "), axis=1)\n",
    "random_accommodations_df.head()"
   ],
   "id": "c9801e6de63b2c81",
   "outputs": [],
   "execution_count": null
  },
  {
   "metadata": {},
   "cell_type": "code",
   "source": "print(random_accommodations_df.iloc[0][\"review_summaries\"])",
   "id": "701ac5d59b27a44",
   "outputs": [],
   "execution_count": null
  },
  {
   "metadata": {},
   "cell_type": "markdown",
   "source": [
    "## Conclusion\n",
    "\n",
    "In this tutorial we have explored the end-to-end process from data analysis, enrichment, and summarization. For additional challenges consider what changes you would make in terms of:\n",
    "\n",
    "* What additional analyses would do to the data that was not done in this notebook?\n",
    "* What other data enrichment would you consider for the base dataset (e.g. external geospatial data, part-of-speech tagging, etc.)?\n",
    "* How would change the way the model is prompted to generate the summaries from the reviews?\n",
    "* In terms of non-English languages, what approaches would you consider?\n",
    "* Evaluation: How would evaluate the accuracy and appropriateness of the text generated by the model?"
   ],
   "id": "83e13bb202219634"
  }
 ],
 "metadata": {
  "kernelspec": {
   "display_name": "Python 3",
   "language": "python",
   "name": "python3"
  },
  "language_info": {
   "codemirror_mode": {
    "name": "ipython",
    "version": 2
   },
   "file_extension": ".py",
   "mimetype": "text/x-python",
   "name": "python",
   "nbconvert_exporter": "python",
   "pygments_lexer": "ipython2",
   "version": "2.7.6"
  }
 },
 "nbformat": 4,
 "nbformat_minor": 5
}
